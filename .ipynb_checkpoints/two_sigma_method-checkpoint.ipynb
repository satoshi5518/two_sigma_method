{
 "cells": [
  {
   "cell_type": "markdown",
   "metadata": {},
   "source": [
    "# 2σ法の判定"
   ]
  },
  {
   "cell_type": "markdown",
   "metadata": {},
   "source": [
    "## tsvファイルの読み込み <Br>\n",
    "ヘッダーはID、Category、val01、val02、val3、val04を想定<br>\n",
    "ファイルはヘッダー無しのtsvファイルを結合させて読み込む"
   ]
  },
  {
   "cell_type": "code",
   "execution_count": 13,
   "metadata": {},
   "outputs": [],
   "source": [
    "import os\n",
    "import glob\n",
    "import csv\n",
    "import pandas as pd\n",
    "DATA_PATH = \"./tsv/\"\n",
    "All_Files = glob.glob('{}*.tsv'.format(DATA_PATH))"
   ]
  },
  {
   "cell_type": "code",
   "execution_count": 55,
   "metadata": {},
   "outputs": [],
   "source": [
    "#print(All_Files)\n",
    "# フォルダ中の全csvをマージ\n",
    "list = []\n",
    "for file in All_Files:\n",
    "    list.append(pd.read_csv(file,sep='\\t',header=None,names=('ID', 'Category', 'val01', 'val02', 'val03', 'val04')))\n",
    "df = pd.concat(list, sort=False)\n",
    "\n",
    "# 結合tsv出力\n",
    "#df.to_csv('ketugou.tsv', encoding='utf_8')"
   ]
  },
  {
   "cell_type": "code",
   "execution_count": 56,
   "metadata": {},
   "outputs": [],
   "source": [
    "# 分類(Category)を指定してデータを絞る\n",
    "df_category = df[df['Category'] == 'Category2']"
   ]
  },
  {
   "cell_type": "code",
   "execution_count": 71,
   "metadata": {},
   "outputs": [],
   "source": [
    "# 特定のカラムを取得する\n",
    "target_col_name = 'val01'\n",
    "df_target = df_category[target_col_name]"
   ]
  },
  {
   "cell_type": "markdown",
   "metadata": {},
   "source": [
    "## データの分析"
   ]
  },
  {
   "cell_type": "code",
   "execution_count": 72,
   "metadata": {},
   "outputs": [
    {
     "name": "stdout",
     "output_type": "stream",
     "text": [
      "平均 :  100.80559735179055\n",
      "中央値 :  101.0\n",
      "最大値 :  200\n",
      "最小値 :  0\n",
      "データ数 :  3323\n",
      "標準偏差 :  58.644877683166726\n",
      "分散 :  3439.221678473587\n"
     ]
    }
   ],
   "source": [
    "# 平均\n",
    "mean = df_target.mean()\n",
    "# 中央値\n",
    "median = df_target.median()\n",
    "# 最大値\n",
    "dfmax = df_target.max()\n",
    "# 最小値\n",
    "dfmin = df_target.min()\n",
    "# データ数\n",
    "N = df_target.count()\n",
    "# 標準偏差\n",
    "std = df_target.std()\n",
    "# 分散\n",
    "var = df_target.var()\n",
    "\n",
    "# 表示\n",
    "print(\"平均 : \",mean)\n",
    "print(\"中央値 : \",median)\n",
    "print(\"最大値 : \",dfmax)\n",
    "print(\"最小値 : \",dfmin)\n",
    "print(\"データ数 : \",N)\n",
    "print(\"標準偏差 : \",std)\n",
    "print(\"分散 : \",var)"
   ]
  },
  {
   "cell_type": "code",
   "execution_count": 73,
   "metadata": {},
   "outputs": [
    {
     "data": {
      "image/png": "[encoded data removed]",
      "text/plain": [
       "<Figure size 432x288 with 1 Axes>"
      ]
     },
     "metadata": {
      "needs_background": "light"
     },
     "output_type": "display_data"
    }
   ],
   "source": [
    "%matplotlib inline\n",
    "# グラフ描画のためmatplotlibのpyplotをインポート\n",
    "import matplotlib.pyplot as plt\n",
    "\n",
    "data = df_target.tolist()\n",
    "\n",
    "# タイトル追加\n",
    "plt.title('score')\n",
    "\n",
    "# x軸にscore、y軸にfreq\n",
    "plt.xlabel('score')\n",
    "plt.ylabel('freq')\n",
    "\n",
    "\n",
    "# ヒストグラムを描画する（表示する幅は50〜100）\n",
    "plt.hist(data, range=(dfmin, dfmax));"
   ]
  },
  {
   "cell_type": "markdown",
   "metadata": {},
   "source": [
    "## 異常値を検出\n",
    "\n",
    "### 1σ(全体の68.26%)から漏れたもの"
   ]
  },
  {
   "cell_type": "code",
   "execution_count": 101,
   "metadata": {},
   "outputs": [
    {
     "name": "stdout",
     "output_type": "stream",
     "text": [
      "範囲 : 42 ～ 159　外のデータを取得\n"
     ]
    }
   ],
   "source": [
    "one_sigma_min = mean - std\n",
    "one_sigma_max = mean + std\n",
    "\n",
    "# 範囲内のデータを絞り込む\n",
    "one_min_df = df_category[df_category[target_col_name] < one_sigma_min]\n",
    "one_max_df = df_category[df_category[target_col_name] > one_sigma_max]\n",
    "\n",
    "print(\"範囲 : %d ～ %d　外のデータを取得\"% (one_sigma_min,one_sigma_max))\n",
    "#print(one_min_df)\n",
    "#print(one_max_df)\n",
    "\n",
    "# 結合csv出力\n",
    "one_shigma = pd.concat([one_min_df,one_max_df])\n",
    "one_shigma.to_csv('1σ異常検知.csv', encoding='utf_8')"
   ]
  },
  {
   "cell_type": "code",
   "execution_count": 104,
   "metadata": {},
   "outputs": [
    {
     "data": {
      "image/png": "[encoded data removed]",
      "text/plain": [
       "<Figure size 432x288 with 1 Axes>"
      ]
     },
     "metadata": {
      "needs_background": "light"
     },
     "output_type": "display_data"
    }
   ],
   "source": [
    "%matplotlib inline\n",
    "# グラフ描画のためmatplotlibのpyplotをインポート\n",
    "import matplotlib.pyplot as plt\n",
    "\n",
    "data = one_shigma[target_col_name].tolist()\n",
    "\n",
    "# タイトル追加\n",
    "plt.title('score')\n",
    "\n",
    "# x軸にscore、y軸にfreq\n",
    "plt.xlabel('score')\n",
    "plt.ylabel('freq')\n",
    "\n",
    "\n",
    "# ヒストグラムを描画する（表示する幅は50〜100）\n",
    "plt.hist(data, range=(dfmin, dfmax));"
   ]
  },
  {
   "cell_type": "markdown",
   "metadata": {},
   "source": [
    "### 2σ(全体の95.44%)から漏れたもの"
   ]
  },
  {
   "cell_type": "code",
   "execution_count": 103,
   "metadata": {},
   "outputs": [
    {
     "name": "stdout",
     "output_type": "stream",
     "text": [
      "範囲 : -16 ～ 218　外のデータを取得\n"
     ]
    }
   ],
   "source": [
    "two_sigma_min = mean - (std * 2)\n",
    "two_sigma_max = mean + (std * 2)\n",
    "\n",
    "# 範囲内のデータを絞り込む\n",
    "two_min_df = df_category[df_category[target_col_name] < two_sigma_min]\n",
    "two_max_df = df_category[df_category[target_col_name] > two_sigma_max]\n",
    "\n",
    "print(\"範囲 : %d ～ %d　外のデータを取得\"% (two_sigma_min,two_sigma_max))\n",
    "#print(two_min_df)\n",
    "#print(two_max_df)\n",
    "\n",
    "# 結合csv出力\n",
    "two_shigma = pd.concat([two_min_df,two_max_df])\n",
    "two_shigma.to_csv('2σ異常検知.csv', encoding='utf_8')"
   ]
  },
  {
   "cell_type": "code",
   "execution_count": 106,
   "metadata": {},
   "outputs": [
    {
     "data": {
      "image/png": "[encoded data removed]",
      "text/plain": [
       "<Figure size 432x288 with 1 Axes>"
      ]
     },
     "metadata": {
      "needs_background": "light"
     },
     "output_type": "display_data"
    }
   ],
   "source": [
    "%matplotlib inline\n",
    "# グラフ描画のためmatplotlibのpyplotをインポート\n",
    "import matplotlib.pyplot as plt\n",
    "\n",
    "data = two_shigma[target_col_name].tolist()\n",
    "\n",
    "# タイトル追加\n",
    "plt.title('score')\n",
    "\n",
    "# x軸にscore、y軸にfreq\n",
    "plt.xlabel('score')\n",
    "plt.ylabel('freq')\n",
    "\n",
    "\n",
    "# ヒストグラムを描画する（表示する幅は50〜100）\n",
    "plt.hist(data, range=(dfmin, dfmax));"
   ]
  },
  {
   "cell_type": "code",
   "execution_count": null,
   "metadata": {},
   "outputs": [],
   "source": []
  }
 ],
 "metadata": {
  "kernelspec": {
   "display_name": "Python 3",
   "language": "python",
   "name": "python3"
  },
  "language_info": {
   "codemirror_mode": {
    "name": "ipython",
    "version": 3
   },
   "file_extension": ".py",
   "mimetype": "text/x-python",
   "name": "python",
   "nbconvert_exporter": "python",
   "pygments_lexer": "ipython3",
   "version": "3.6.9"
  }
 },
 "nbformat": 4,
 "nbformat_minor": 2
}
